{
 "cells": [
  {
   "cell_type": "markdown",
   "metadata": {},
   "source": [
    "# DS 3000 - Assignment 3\n",
    "\n",
    "**Student Name**: [Yanzhen Chen]\n",
    "\n",
    "**Date**: [9/19]\n",
    "\n",
    "\n",
    "### Submission Instructions\n",
    "Submit this `ipynb` file to canvas.\n",
    "\n",
    "The `ipynb` format stores outputs from the last time you ran the notebook.  (When you open a notebook it has the figures and outputs of the last time you ran it too).  To ensure that your submitted `ipynb` file represents your latest code, make sure to give a fresh run `Kernel > Restart & Run All` just before uploading the `ipynb` file to Canvas.\n",
    "\n",
    "### Academic Integrity\n",
    "\n",
    "**Writing your homework is an individual effort.**  You may discuss general python problems with other students but under no circumstances should you observe another student's code which was written for this assignment, from this year or past years.  Pop into office hours or DM us in MS Teams if you have a specific question about your work or if you would like another pair of eyes or talk through your code.\n",
    "\n",
    "Don't forget to cite websites which helped you solve a problem in a unique way.  You can do this in markdown near the code or with a simple one-line comment. You do not need to cite the official python documentation.\n",
    "\n",
    "**Documentation / style counts for credit**  Please refer to the Pep-8 style, to improve the readability and consistency of your Python code. For more information, read the following article [How to Write Beautiful Python Code With PEP 8](https://realpython.com/python-pep8/) or ask your TA's for tips.\n",
    "\n",
    "**NOTE:<span style='color:red'> Write python expressions to answer ALL questions below and ensure that you use the `print()` function to display the output.</span>** Each question should be answered in a new code cell. For example, your solution for question 1.1 should be in a different code cell from your solution for question 1.2."
   ]
  },
  {
   "cell_type": "code",
   "execution_count": null,
   "metadata": {},
   "outputs": [],
   "source": []
  },
  {
   "cell_type": "markdown",
   "metadata": {},
   "source": [
    "## Data Science Problem (50 pts)\n",
    "### Instructions\n",
    "\n",
    "You are hired as a Data Scientist for the NYC Taxi and Limousine Commission (TLC) and this company routinely collects trip data from all licensed cabs in NY. Your team would like to use this data in the future to understand how New Yorkers use these taxis. Your first assignment is to **analyze the data of the Green Taxis, and determine if its a viable source.**\n",
    "\n",
    "Your supervisor has requested that you perform your analysis using data from February 2023 and would like for you to present your findings during the next team meeting. Use a Jupyter notebook to explain your data wrangling and analytical steps to your colleagues. \n",
    "\n",
    "**Data & Documentation**\n",
    "\n",
    "- **Data Source:** https://d37ci6vzurychx.cloudfront.net/trip-data/green_tripdata_2023-02.parquet\n",
    "- **Data Dictionary:** [Green Trips Data Dictionary](https://www1.nyc.gov/assets/tlc/downloads/pdf/data_dictionary_trip_records_green.pdf).\n",
    "\n",
    "The TLC trip record data and a description of the initiative can be found at the following link: https://www1.nyc.gov/site/tlc/about/tlc-trip-record-data.page\n",
    "\n",
    "**`Note:`** Ensure that you explain the results from each question.\n",
    "\n",
    "\n",
    "**In this assignment you will use the Pandas library. Pandas allows us to load data that's stored in a various formats, e.g. excel, csv, txt, parquet, etc. In this assignment, you will learn to read data in parquet format which is one of the preferred formats when working with `Big Data`. [Click here to learn more about parquet files](https://towardsdatascience.com/csv-files-for-storage-no-thanks-theres-a-better-option-72c78a414d1d)**\n",
    "\n",
    "I also provided starter code below to help you to read the data in parquet format. First, you'll need to install a new library called *fastparquet*."
   ]
  },
  {
   "cell_type": "code",
   "execution_count": 2,
   "metadata": {},
   "outputs": [
    {
     "name": "stdout",
     "output_type": "stream",
     "text": [
      "Requirement already satisfied: fastparquet in /opt/anaconda3/lib/python3.12/site-packages (2024.5.0)\n",
      "Requirement already satisfied: pandas>=1.5.0 in /opt/anaconda3/lib/python3.12/site-packages (from fastparquet) (2.2.2)\n",
      "Requirement already satisfied: numpy in /opt/anaconda3/lib/python3.12/site-packages (from fastparquet) (1.26.4)\n",
      "Requirement already satisfied: cramjam>=2.3 in /opt/anaconda3/lib/python3.12/site-packages (from fastparquet) (2.8.3)\n",
      "Requirement already satisfied: fsspec in /opt/anaconda3/lib/python3.12/site-packages (from fastparquet) (2024.6.1)\n",
      "Requirement already satisfied: packaging in /opt/anaconda3/lib/python3.12/site-packages (from fastparquet) (24.1)\n",
      "Requirement already satisfied: python-dateutil>=2.8.2 in /opt/anaconda3/lib/python3.12/site-packages (from pandas>=1.5.0->fastparquet) (2.9.0.post0)\n",
      "Requirement already satisfied: pytz>=2020.1 in /opt/anaconda3/lib/python3.12/site-packages (from pandas>=1.5.0->fastparquet) (2024.1)\n",
      "Requirement already satisfied: tzdata>=2022.7 in /opt/anaconda3/lib/python3.12/site-packages (from pandas>=1.5.0->fastparquet) (2023.3)\n",
      "Requirement already satisfied: six>=1.5 in /opt/anaconda3/lib/python3.12/site-packages (from python-dateutil>=2.8.2->pandas>=1.5.0->fastparquet) (1.16.0)\n"
     ]
    }
   ],
   "source": [
    "#run this cell to install the fast parquet library\n",
    "!pip install fastparquet"
   ]
  },
  {
   "cell_type": "code",
   "execution_count": 5,
   "metadata": {},
   "outputs": [],
   "source": [
    "import pandas as pd"
   ]
  },
  {
   "cell_type": "markdown",
   "metadata": {},
   "source": [
    "## 1. Load the data\n",
    "Load the NYC Green Taxi Trip Records data directly from the URL into a data frame called tripdata_df. "
   ]
  },
  {
   "cell_type": "code",
   "execution_count": 7,
   "metadata": {},
   "outputs": [],
   "source": [
    "#let's load the data into a dataframe\n",
    "\n",
    "tripdata_df = pd.read_parquet(path = 'https://d37ci6vzurychx.cloudfront.net/trip-data/green_tripdata_2023-02.parquet',engine = 'fastparquet')\n",
    "\n",
    "#Note: you'll notice two new things. 1) We are using a new function called `read_parquet()` which indicates that we are \n",
    "#      reading data in parquet format. 2) We used the fastparquet library as the engine. \n",
    "#      That's it! Pandas will load the data into a dataframe. You can now use the dataframe for EDA.\n",
    "\n",
    "# Reminder: How does Pandas read other file formats?\n",
    "# 1. Excel files: pd.read_excel()\n",
    "# 2. CSV Files: pd.read_csv()\n",
    "# ... and now you know how to read parquet files using pd.read_parquet()\n"
   ]
  },
  {
   "cell_type": "markdown",
   "metadata": {},
   "source": [
    "## 2. Inspect the Data (5 pts) \n",
    "Inspect the data and perform the following: \n",
    "1. display the dimensions, and indicate if the variables have suitable types.\n",
    "2. convert all variables to suitable types"
   ]
  },
  {
   "cell_type": "code",
   "execution_count": 9,
   "metadata": {},
   "outputs": [
    {
     "name": "stdout",
     "output_type": "stream",
     "text": [
      "data dimensions: (64809, 20)\n",
      "\n",
      "original data type:\n",
      "VendorID                        float64\n",
      "lpep_pickup_datetime     datetime64[us]\n",
      "lpep_dropoff_datetime    datetime64[us]\n",
      "store_and_fwd_flag               object\n",
      "RatecodeID                      float64\n",
      "PULocationID                    float64\n",
      "DOLocationID                    float64\n",
      "passenger_count                 float64\n",
      "trip_distance                   float64\n",
      "fare_amount                     float64\n",
      "extra                           float64\n",
      "mta_tax                         float64\n",
      "tip_amount                      float64\n",
      "tolls_amount                    float64\n",
      "ehail_fee                       float64\n",
      "improvement_surcharge           float64\n",
      "total_amount                    float64\n",
      "payment_type                    float64\n",
      "trip_type                       float64\n",
      "congestion_surcharge            float64\n",
      "dtype: object\n",
      "\n",
      "updated data type:\n",
      "VendorID                        float64\n",
      "lpep_pickup_datetime     datetime64[us]\n",
      "lpep_dropoff_datetime    datetime64[us]\n",
      "store_and_fwd_flag                 bool\n",
      "RatecodeID                      float64\n",
      "PULocationID                    float64\n",
      "DOLocationID                    float64\n",
      "passenger_count                 float64\n",
      "trip_distance                   float64\n",
      "fare_amount                     float64\n",
      "extra                           float64\n",
      "mta_tax                         float64\n",
      "tip_amount                      float64\n",
      "tolls_amount                    float64\n",
      "ehail_fee                       float64\n",
      "improvement_surcharge           float64\n",
      "total_amount                    float64\n",
      "payment_type                    float64\n",
      "trip_type                       float64\n",
      "congestion_surcharge            float64\n",
      "dtype: object\n"
     ]
    }
   ],
   "source": [
    "# display the dimensions\n",
    "print(f\"data dimensions: {tripdata_df.shape}\")\n",
    "\n",
    "# show original data type\n",
    "print(\"\\noriginal data type:\")\n",
    "print(tripdata_df.dtypes)\n",
    "\n",
    "# convert from object to boolean\n",
    "tripdata_df['store_and_fwd_flag'] = tripdata_df['store_and_fwd_flag'].astype(bool)\n",
    "\n",
    "# Display the data type again to confirm the change\n",
    "print(\"\\nupdated data type:\")\n",
    "print(tripdata_df.dtypes)"
   ]
  },
  {
   "cell_type": "markdown",
   "metadata": {},
   "source": [
    "## 3. Types of Data (2 pts) \n",
    "Are there any categorical data in this dataset. If they exist, demonstrate at least two categorical variables and indicate if they are nominal or ordinal (hint: read the data dictionary above which describes all fields in the data)"
   ]
  },
  {
   "cell_type": "code",
   "execution_count": 11,
   "metadata": {},
   "outputs": [
    {
     "name": "stdout",
     "output_type": "stream",
     "text": [
      "VendorID (Nominal):\n",
      "0    1.0\n",
      "1    2.0\n",
      "2    2.0\n",
      "3    2.0\n",
      "4    2.0\n",
      "Name: VendorID, dtype: float64\n",
      "\n",
      "payment_type (Nominal):\n",
      "0    2.0\n",
      "1    2.0\n",
      "2    1.0\n",
      "3    2.0\n",
      "4    2.0\n",
      "Name: payment_type, dtype: float64\n",
      "\n",
      "RateCodeID (Ordinal):\n",
      "0    1.0\n",
      "1    1.0\n",
      "2    1.0\n",
      "3    1.0\n",
      "4    1.0\n",
      "Name: RatecodeID, dtype: float64\n",
      "\n",
      "trip_type (Ordinal):\n",
      "0    1.0\n",
      "1    1.0\n",
      "2    1.0\n",
      "3    1.0\n",
      "4    1.0\n",
      "Name: trip_type, dtype: float64\n"
     ]
    }
   ],
   "source": [
    "print(\"VendorID (Nominal):\")\n",
    "print(tripdata_df['VendorID'].head())\n",
    "\n",
    "print(\"\\npayment_type (Nominal):\")\n",
    "print(tripdata_df['payment_type'].head())\n",
    "\n",
    "print(\"\\nRateCodeID (Ordinal):\")\n",
    "print(tripdata_df['RatecodeID'].head())\n",
    "\n",
    "print(\"\\ntrip_type (Ordinal):\")\n",
    "print(tripdata_df['trip_type'].head())\n"
   ]
  },
  {
   "cell_type": "markdown",
   "metadata": {},
   "source": [
    "## 4. Missing Values (10 pts) \n",
    "Evaluate the frequency of missing values in the dataset and perform the following:\n",
    "1. explain if missing values are an isolated case or a widespread issue? \n",
    "2. what method would you recommend to handle missing data?\n",
    "3. write the suitable code to handle the missing values."
   ]
  },
  {
   "cell_type": "code",
   "execution_count": 13,
   "metadata": {},
   "outputs": [
    {
     "name": "stdout",
     "output_type": "stream",
     "text": [
      "Missing value statistics:\n",
      "RatecodeID               4821\n",
      "passenger_count          4821\n",
      "ehail_fee               64809\n",
      "payment_type             4821\n",
      "trip_type                4826\n",
      "congestion_surcharge     4821\n",
      "dtype: int64\n",
      "\n",
      "Percentage of missing values (by column):\n",
      "RatecodeID                7.438782\n",
      "passenger_count           7.438782\n",
      "ehail_fee               100.000000\n",
      "payment_type              7.438782\n",
      "trip_type                 7.446497\n",
      "congestion_surcharge      7.438782\n",
      "dtype: float64\n",
      "\n",
      "missing values are a widespread issue.\n",
      "Fill the column with the median in column:RatecodeID (Percentage of missing values: 7.44%)\n",
      "Fill the column with the median in column:passenger_count (Percentage of missing values: 7.44%)\n",
      "delete ehail_fee (Percentage of missing values: 100.0%)\n",
      "Fill the column with the median in column:payment_type (Percentage of missing values: 7.44%)\n",
      "Fill the column with the median in column:trip_type (Percentage of missing values: 7.45%)\n",
      "Fill the column with the median in column:congestion_surcharge (Percentage of missing values: 7.44%)\n",
      "\n",
      "Dimensions of the processed data: (64809, 19)\n"
     ]
    }
   ],
   "source": [
    "# Evaluate missing values\n",
    "missing_values = tripdata_df.isnull().sum()\n",
    "missing_percentage = (missing_values / len(tripdata_df)) * 100\n",
    "\n",
    "print(\"Missing value statistics:\")\n",
    "print(missing_values[missing_values > 0])\n",
    "print(\"\\nPercentage of missing values (by column):\")\n",
    "print(missing_percentage[missing_percentage > 0])\n",
    "\n",
    "# Determine if the missing value is a widespread problem\n",
    "if missing_percentage[missing_percentage > 0].mean() < 5:\n",
    "    print(\"\\nmissing values are an isolated case.\")\n",
    "else:\n",
    "    print(\"\\nmissing values are a widespread issue.\")\n",
    "\n",
    "# Handle the missing values\n",
    "for column in tripdata_df.columns:\n",
    "    missing_pct = missing_percentage[column]\n",
    "    if missing_pct > 30:\n",
    "        print(f\"delete {column} (Percentage of missing values: {round(missing_pct,2)}%)\")\n",
    "        tripdata_df = tripdata_df.drop(columns=[column])\n",
    "    elif missing_pct > 0:\n",
    "        if tripdata_df[column].dtype in ['int64', 'float64']:\n",
    "            print(f\"Fill the column with the median in column:{column} (Percentage of missing values: {round(missing_pct,2)}%)\")\n",
    "            tripdata_df[column] = tripdata_df[column].fillna(tripdata_df[column].median())\n",
    "        else:\n",
    "            print(f\"Fill the column with the mode in column:{column} (Percentage of missing values: {round(missing_pct,2)}%)\")\n",
    "            tripdata_df[column] = tripdata_df[column].fillna(tripdata_df[column].mode()[0])\n",
    "\n",
    "print(\"\\nDimensions of the processed data:\", tripdata_df.shape)\n"
   ]
  },
  {
   "cell_type": "markdown",
   "metadata": {},
   "source": [
    "## 5. Invalid Data (10 pts) \n",
    "Explore the data to determine if there are any invalid values and perform the following: \n",
    "1. demonstrate at least three issues that you found. **`NOTE`: The issues that you found should not include any aspects from the previous questions.**\n",
    "2. write suitable code to handle the invalid data that you found."
   ]
  },
  {
   "cell_type": "code",
   "execution_count": 15,
   "metadata": {},
   "outputs": [
    {
     "name": "stdout",
     "output_type": "stream",
     "text": [
      "Number of negative trip distances: 0\n",
      "Number of negative total amounts: 188\n",
      "Number of invalid passenger counts: 370\n",
      "\n",
      "Data dimensions after cleaning: (64251, 19)\n"
     ]
    }
   ],
   "source": [
    "# 1. Check for negative trip distances\n",
    "invalid_trip_distance = tripdata_df[tripdata_df['trip_distance'] < 0]\n",
    "print(f\"Number of negative trip distances: {len(invalid_trip_distance)}\")\n",
    "\n",
    "# 2. Check for negative total amounts\n",
    "invalid_total_amount = tripdata_df[tripdata_df['total_amount'] < 0]\n",
    "print(f\"Number of negative total amounts: {len(invalid_total_amount)}\")\n",
    "\n",
    "# 3. Check for invalid passenger counts\n",
    "invalid_passenger_count = tripdata_df[(tripdata_df['passenger_count'] <= 0) | (tripdata_df['passenger_count'].isnull())]\n",
    "print(f\"Number of invalid passenger counts: {len(invalid_passenger_count)}\")\n",
    "\n",
    "# Remove rows with negative trip distances\n",
    "tripdata_df = tripdata_df[tripdata_df['trip_distance'] >= 0]\n",
    "\n",
    "# Remove rows with negative total amounts\n",
    "tripdata_df = tripdata_df[tripdata_df['total_amount'] >= 0]\n",
    "\n",
    "# Remove rows with invalid passenger counts\n",
    "tripdata_df = tripdata_df[(tripdata_df['passenger_count'] > 0) & (tripdata_df['passenger_count'].notnull())]\n",
    "\n",
    "# The dimensions of the cleaned dataset\n",
    "print(\"\\nData dimensions after cleaning:\", tripdata_df.shape)\n"
   ]
  },
  {
   "cell_type": "markdown",
   "metadata": {},
   "source": [
    "<span style='color:red'>**Answer the following questions using the prepared data.**</span>"
   ]
  },
  {
   "cell_type": "markdown",
   "metadata": {},
   "source": [
    "## 6. Data Visualization (10 pts) \n",
    "Create bar charts that show: \n",
    "1. the most common way that New Yorkers request/hail a cab. \n",
    "2. the most common pick-up locations (display the top 5 locations). \n",
    "3. the most common drop-off locations (display the top 5 locations). \n",
    "\n",
    "Explain each chart."
   ]
  },
  {
   "cell_type": "code",
   "execution_count": 18,
   "metadata": {},
   "outputs": [
    {
     "data": {
      "image/png": "[encoded data removed]",
      "text/plain": [
       "<Figure size 1000x600 with 1 Axes>"
      ]
     },
     "metadata": {},
     "output_type": "display_data"
    },
    {
     "data": {
      "image/png": "[encoded data removed]",
      "text/plain": [
       "<Figure size 1000x600 with 1 Axes>"
      ]
     },
     "metadata": {},
     "output_type": "display_data"
    },
    {
     "data": {
      "image/png": "[encoded data removed]",
      "text/plain": [
       "<Figure size 1000x600 with 1 Axes>"
      ]
     },
     "metadata": {},
     "output_type": "display_data"
    }
   ],
   "source": [
    "import matplotlib.pyplot as plt\n",
    "\n",
    "# 1. Bar chart for the most common way New Yorkers request a cab\n",
    "trip_type_counts = tripdata_df['trip_type'].value_counts()\n",
    "trip_type_labels = ['Street-hail', 'Dispatch']\n",
    "\n",
    "plt.figure(figsize=(10, 6))\n",
    "plt.bar(trip_type_labels, trip_type_counts)\n",
    "plt.title('Most Common Ways That New Yorkers Request/Hail a Cab')\n",
    "plt.xlabel('Trip Type')\n",
    "plt.ylabel('Number of Trips')\n",
    "plt.show()\n",
    "\n",
    "# 2. Bar chart for the most common pick-up locations \n",
    "top5_pickup_locations = tripdata_df['PULocationID'].value_counts().nlargest(5)\n",
    "\n",
    "plt.figure(figsize=(10, 6))\n",
    "plt.bar(top5_pickup_locations.index.astype(str), top5_pickup_locations.values)\n",
    "plt.title('Top 5 Most Common Pick-up Locations')\n",
    "plt.xlabel('Pick-up Location ID')\n",
    "plt.ylabel('Number of Pick-ups')\n",
    "plt.show()\n",
    "\n",
    "# 3. Bar chart for the most common drop-off locations (DOLocationID)\n",
    "top5_dropoff_locations = tripdata_df['DOLocationID'].value_counts().nlargest(5)\n",
    "\n",
    "plt.figure(figsize=(10, 6))\n",
    "plt.bar(top5_dropoff_locations.index.astype(str), top5_dropoff_locations.values)\n",
    "plt.title('Top 5 Most Common Drop-off Locations')\n",
    "plt.xlabel('Drop-off Location ID')\n",
    "plt.ylabel('Number of Drop-offs')\n",
    "plt.show()\n"
   ]
  },
  {
   "cell_type": "markdown",
   "metadata": {},
   "source": [
    "## 7. Data Analysis (10 pts)\n",
    "Write suitable code to answer the following:\n",
    "1. On average, how far do New Yorkers usually travel using these taxis?\n",
    "2. What is the most expensive and least expensive trip? \n",
    "3. What is the minimum, average and maximum **tip amount** for all trips that are 1) under 2 miles and 2) over 2 miles (i.e. >= 2)? \n",
    "\n",
    "Explain the results.\n",
    "\n",
    "*`TIP`: If the answers from your analysis in this question contains erroneous or invalid numeric values, this means that the data needs to be cleaned to ensure that the analytical results are coherent.*"
   ]
  },
  {
   "cell_type": "code",
   "execution_count": 20,
   "metadata": {},
   "outputs": [
    {
     "name": "stdout",
     "output_type": "stream",
     "text": [
      "On average, New Yorkers travel 13.8 miles using taxis.\n",
      "The most expensive trip costs: $441.0\n",
      "The least expensive trip costs: $0.0\n",
      "\n",
      "Tip statistics for trips under 2 miles:\n",
      "Minimum tip: $0.0\n",
      "Average tip: $1.35\n",
      "Maximum tip: $80.0\n",
      "\n",
      "Tip statistics for trips 2 miles or more:\n",
      "Minimum tip: $0.0\n",
      "Average tip: $3.06\n",
      "Maximum tip: $75.82\n"
     ]
    }
   ],
   "source": [
    "# 1. On average, how far do New Yorkers usually travel using these taxis?\n",
    "average_trip_distance = round(tripdata_df['trip_distance'].mean(), 2)\n",
    "print(f\"On average, New Yorkers travel {average_trip_distance} miles using taxis.\")\n",
    "\n",
    "# 2. What is the most expensive and least expensive trip?\n",
    "most_expensive_trip = round(tripdata_df['total_amount'].max(), 2)\n",
    "least_expensive_trip = round(tripdata_df['total_amount'].min(), 2)\n",
    "\n",
    "print(f\"The most expensive trip costs: ${most_expensive_trip}\")\n",
    "print(f\"The least expensive trip costs: ${least_expensive_trip}\")\n",
    "\n",
    "# 3. What is the minimum, average and maximum tip amount for all trips that are 1) under 2 miles and 2) over 2 miles (i.e. >= 2)?\n",
    "\n",
    "# Trips under 2 miles\n",
    "under_2_miles = tripdata_df[tripdata_df['trip_distance'] < 2]\n",
    "min_tip_under_2 = round(under_2_miles['tip_amount'].min(), 2)\n",
    "avg_tip_under_2 = round(under_2_miles['tip_amount'].mean(), 2)\n",
    "max_tip_under_2 = round(under_2_miles['tip_amount'].max(), 2)\n",
    "\n",
    "print(\"\\nTip statistics for trips under 2 miles:\")\n",
    "print(f\"Minimum tip: ${min_tip_under_2}\")\n",
    "print(f\"Average tip: ${avg_tip_under_2}\")\n",
    "print(f\"Maximum tip: ${max_tip_under_2}\")\n",
    "\n",
    "# Trips 2 miles or more\n",
    "over_2_miles = tripdata_df[tripdata_df['trip_distance'] >= 2]\n",
    "min_tip_over_2 = round(over_2_miles['tip_amount'].min(), 2)\n",
    "avg_tip_over_2 = round(over_2_miles['tip_amount'].mean(), 2)\n",
    "max_tip_over_2 = round(over_2_miles['tip_amount'].max(), 2)\n",
    "\n",
    "print(\"\\nTip statistics for trips 2 miles or more:\")\n",
    "print(f\"Minimum tip: ${min_tip_over_2}\")\n",
    "print(f\"Average tip: ${avg_tip_over_2}\")\n",
    "print(f\"Maximum tip: ${max_tip_over_2}\")\n"
   ]
  },
  {
   "cell_type": "markdown",
   "metadata": {},
   "source": [
    "## 8. Findings (3 pts)\n",
    "Based on the preliminary analysis, is this data a viable source that can be used by your team in the future to understand how New Yorkers use these taxis? Justify your response."
   ]
  },
  {
   "cell_type": "markdown",
   "metadata": {},
   "source": [
    "I think this dataset could be a valuable source for future understanding of how New Yorkers use cabs.\n",
    "First of all the dataset contains a wealth of information on a number of dimensions including trip distance, total amount, number of passengers, hailing method, pick-up and drop-off locations, and so on. This data helps to understand the travel habits of New Yorkers, such as common boarding and alighting locations, average trip distance, etc.\n",
    "And after cleaning the invalid data, the dataset provides enough valid information. The statistics of common hailing modes and boarding and alighting locations provide insights into the travel patterns of New Yorkers, which can provide a basis for further analysis."
   ]
  }
 ],
 "metadata": {
  "kernelspec": {
   "display_name": "Python 3 (ipykernel)",
   "language": "python",
   "name": "python3"
  },
  "language_info": {
   "codemirror_mode": {
    "name": "ipython",
    "version": 3
   },
   "file_extension": ".py",
   "mimetype": "text/x-python",
   "name": "python",
   "nbconvert_exporter": "python",
   "pygments_lexer": "ipython3",
   "version": "3.12.4"
  }
 },
 "nbformat": 4,
 "nbformat_minor": 4
}
