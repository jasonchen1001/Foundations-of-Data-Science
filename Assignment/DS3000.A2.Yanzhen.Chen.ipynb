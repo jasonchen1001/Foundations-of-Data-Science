{
 "cells": [
  {
   "cell_type": "markdown",
   "metadata": {},
   "source": [
    "# DS 3000 - Assignment [2]\n",
    "\n",
    "**Student Name**: [Yanzhen Chen]\n",
    "\n",
    "**Date**: [9/12]\n",
    "\n",
    "\n",
    "### Submission Instructions\n",
    "Submit this `ipynb` file to canvas.\n",
    "\n",
    "The `ipynb` format stores outputs from the last time you ran the notebook.  (When you open a notebook it has the figures and outputs of the last time you ran it too).  To ensure that your submitted `ipynb` file represents your latest code, make sure to give a fresh run `Kernel > Restart & Run All` just before uploading the `ipynb` file to Canvas.\n",
    "\n",
    "### Academic Integrity\n",
    "\n",
    "**Writing your homework is an individual effort.**  You may discuss general python problems with other students but under no circumstances should you observe another student's code which was written for this assignment, from this year or past years.  Pop into office hours or DM us in MS Teams if you have a specific question about your work or if you would like another pair of eyes or talk through your code.\n",
    "\n",
    "Don't forget to cite websites which helped you solve a problem in a unique way.  You can do this in markdown near the code or with a simple one-line comment. You do not need to cite the official python documentation.\n",
    "\n",
    "**Documentation / style counts for credit**  Please refer to the Pep-8 style, to improve the readability and consistency of your Python code. For more information, read the following article [How to Write Beautiful Python Code With PEP 8](https://realpython.com/python-pep8/) or ask your TA's for tips.\n",
    "\n",
    "**NOTE:<span style='color:red'> Write python expressions to answer ALL questions below and ensure that you use the `print()` function to display the output.</span>** Each question should be answered in a new code cell. For example, your solution for question 1.1 should be in a different code cell from your solution for question 1.2."
   ]
  },
  {
   "cell_type": "markdown",
   "metadata": {},
   "source": [
    "## Question 1: \n",
    "\n",
    "The data that you are working with pertains to the risk factors that are associated with low infant birth weight**. The data contains the following fields:\n",
    "\n",
    "low\n",
    "indicator of birth weight less than 2.5 kg.\n",
    "\n",
    "age\n",
    "mother's age in years.\n",
    "\n",
    "lwt\n",
    "mother's weight in pounds at last menstrual period.\n",
    "\n",
    "race\n",
    "mother's race (1 = white, 2 = black, 3 = other).\n",
    "\n",
    "smoke\n",
    "smoking status during pregnancy  (0 = false, 1 = true).\n",
    "\n",
    "ptl\n",
    "number of previous premature labors.\n",
    "\n",
    "ht\n",
    "history of hypertension (0 = false, 1 = true).\n",
    "\n",
    "ui\n",
    "presence of uterine irritability.\n",
    "\n",
    "ftv\n",
    "number of physician visits during the first trimester.\n",
    "\n",
    "bwt\n",
    "birth weight in grams.\n",
    "\n",
    "Write python code to answer the questions below and ensure that you round all numeric calculations (i.e. floats) to 2 decimal places (unless indicated otherwise).\n",
    "Tip: you will need to filter for conditions that are true before performing certain calculations."
   ]
  },
  {
   "cell_type": "markdown",
   "metadata": {},
   "source": [
    "1. (5 pts) Load the attached data into a numpy array and display the dimensions of the data: birthwt.csvDownload birthwt.csv"
   ]
  },
  {
   "cell_type": "code",
   "execution_count": 4,
   "metadata": {},
   "outputs": [
    {
     "name": "stdout",
     "output_type": "stream",
     "text": [
      "Data dimensions: (189, 10)\n"
     ]
    }
   ],
   "source": [
    "import numpy as np\n",
    "\n",
    "data = np.genfromtxt('birthwt.csv', delimiter=',', skip_header=1)\n",
    "\n",
    "print(\"Data dimensions:\", data.shape)"
   ]
  },
  {
   "cell_type": "markdown",
   "metadata": {},
   "source": [
    "2. (3 pts) What is the age range of mothers in this dataset.\n",
    "Note: the range should include: the minimum, average and maximum age. Ensure that the ages are represented as whole numbers."
   ]
  },
  {
   "cell_type": "code",
   "execution_count": 6,
   "metadata": {},
   "outputs": [
    {
     "name": "stdout",
     "output_type": "stream",
     "text": [
      "Mother's age range: Min: 14, Avg: 23, Max: 45\n"
     ]
    }
   ],
   "source": [
    "ages = data[:, 1]\n",
    "\n",
    "min_age = int(np.min(ages))\n",
    "avg_age = int(np.mean(ages))\n",
    "max_age = int(np.max(ages))\n",
    "\n",
    "print(f\"Mother's age range: Min: {min_age}, Avg: {avg_age}, Max: {max_age}\")\n"
   ]
  },
  {
   "cell_type": "markdown",
   "metadata": {},
   "source": [
    "3. (2 pts) How many mothers smoked during pregnancy?"
   ]
  },
  {
   "cell_type": "code",
   "execution_count": 8,
   "metadata": {},
   "outputs": [
    {
     "name": "stdout",
     "output_type": "stream",
     "text": [
      "Number of mothers who smoked during pregnancy: 74\n"
     ]
    }
   ],
   "source": [
    "smoke = data[:, 4]\n",
    "\n",
    "smoking_mothers = np.sum(smoke == 1)\n",
    "print(f\"Number of mothers who smoked during pregnancy: {smoking_mothers}\")\n"
   ]
  },
  {
   "cell_type": "markdown",
   "metadata": {},
   "source": [
    "4. (2 pts) How many mothers had a history of hypertension?"
   ]
  },
  {
   "cell_type": "code",
   "execution_count": 10,
   "metadata": {
    "scrolled": true
   },
   "outputs": [
    {
     "name": "stdout",
     "output_type": "stream",
     "text": [
      "Number of mothers with hypertension: 12\n"
     ]
    }
   ],
   "source": [
    "hypertension = data[:, 6]\n",
    "\n",
    "hypertensive_mothers = np.sum(hypertension == 1)\n",
    "print(f\"Number of mothers with hypertension: {hypertensive_mothers}\")\n"
   ]
  },
  {
   "cell_type": "markdown",
   "metadata": {},
   "source": [
    "5. (3 pts) How many mothers have 1 or more premature births?"
   ]
  },
  {
   "cell_type": "code",
   "execution_count": 12,
   "metadata": {},
   "outputs": [
    {
     "name": "stdout",
     "output_type": "stream",
     "text": [
      "Number of mothers with 1 or more premature births: 30\n"
     ]
    }
   ],
   "source": [
    "ptl = data[:, 5]\n",
    "\n",
    "premature_birth_mothers = np.sum(ptl >= 1)\n",
    "print(f\"Number of mothers with 1 or more premature births: {premature_birth_mothers}\")\n"
   ]
  },
  {
   "cell_type": "markdown",
   "metadata": {},
   "source": [
    "6. (5 pts) Create a function called convert_birthweight() that: 1) takes grams as input, 2) converts grams to pounds and ounces, and 3) \n",
    "return the converted value. Use the convert_birthweight() function to convert the birth weight to pounds and ounces in the questions 7-11 \n",
    "below."
   ]
  },
  {
   "cell_type": "code",
   "execution_count": 14,
   "metadata": {},
   "outputs": [
    {
     "name": "stdout",
     "output_type": "stream",
     "text": [
      "Birth weight: 4 pounds and 6.55 ounces\n"
     ]
    }
   ],
   "source": [
    "def convert_birthweight(grams):\n",
    "    pounds = grams * 0.00220462\n",
    "    int_pounds = int(pounds) # Since pounds usually have decimals, decimals need to be converted into ounces\n",
    "    ounces = (pounds - int_pounds) * 16\n",
    "    return int_pounds, round(ounces,2)\n",
    "\n",
    "# Example\n",
    "birth_weight_in_grams = 2000 \n",
    "int_pounds, ounces = convert_birthweight(birth_weight_in_grams)\n",
    "\n",
    "print(f\"Birth weight: {int_pounds} pounds and {ounces} ounces\")\n"
   ]
  },
  {
   "cell_type": "markdown",
   "metadata": {},
   "source": [
    "7. (5 pts) What is the average birth weight of babies whose mothers have a history of premature birth? "
   ]
  },
  {
   "cell_type": "code",
   "execution_count": 16,
   "metadata": {},
   "outputs": [
    {
     "name": "stdout",
     "output_type": "stream",
     "text": [
      "Avg: 2579.4 grams\n"
     ]
    }
   ],
   "source": [
    "premature_birth_data = data[ptl >= 1]\n",
    "\n",
    "premature_birth_weights = premature_birth_data[:, 9]\n",
    "\n",
    "avg_premature_birth_weight = round(np.mean(premature_birth_weights), 2)\n",
    "print(f\"Avg: {avg_premature_birth_weight} grams\")\n"
   ]
  },
  {
   "cell_type": "markdown",
   "metadata": {},
   "source": [
    "8. (5 pts) What is the minimum, average and maximum birth weight of babies whose mother did not smoke during pregnancy and do not have a \n",
    "history of hypertension?"
   ]
  },
  {
   "cell_type": "code",
   "execution_count": 18,
   "metadata": {},
   "outputs": [
    {
     "name": "stdout",
     "output_type": "stream",
     "text": [
      "Min: 1021.0 grams, Avg: 3090.44 grams, Max: 4990.0 grams\n"
     ]
    }
   ],
   "source": [
    "non_smoking_no_hypertension = data[(smoke == 0) & (hypertension == 0)]\n",
    "\n",
    "non_smoking_no_hypertension_weights = non_smoking_no_hypertension[:, 9]\n",
    "\n",
    "min_weight_ns_nh = round(np.min(non_smoking_no_hypertension_weights),2)\n",
    "avg_weight_ns_nh = round(np.mean(non_smoking_no_hypertension_weights),2)\n",
    "max_weight_ns_nh = round(np.max(non_smoking_no_hypertension_weights),2)\n",
    "\n",
    "print(f\"Min: {min_weight_ns_nh} grams, Avg: {avg_weight_ns_nh} grams, Max: {max_weight_ns_nh} grams\")\n"
   ]
  },
  {
   "cell_type": "markdown",
   "metadata": {},
   "source": [
    "9. (5 pts) What is the minimum, average and maximum birth weight of babies whose mothers smoked during pregnancy?"
   ]
  },
  {
   "cell_type": "code",
   "execution_count": 20,
   "metadata": {},
   "outputs": [
    {
     "name": "stdout",
     "output_type": "stream",
     "text": [
      "Min: 709.0 grams, Avg: 2771.92 grams, Max: 4238.0 grams\n"
     ]
    }
   ],
   "source": [
    "smoking_mothers_data = data[smoke == 1]\n",
    "\n",
    "smoking_mothers_weights = smoking_mothers_data[:, 9]\n",
    "\n",
    "min_weight_smoking = round(np.min(smoking_mothers_weights), 2)\n",
    "avg_weight_smoking = round(np.mean(smoking_mothers_weights), 2)\n",
    "max_weight_smoking = round(np.max(smoking_mothers_weights), 2)\n",
    "\n",
    "print(f\"Min: {min_weight_smoking} grams, Avg: {avg_weight_smoking} grams, Max: {max_weight_smoking} grams\")\n"
   ]
  },
  {
   "cell_type": "markdown",
   "metadata": {},
   "source": [
    "10. (5 pts) What is the minimum, average and maximum birth weight of babies whose mothers had a history of hypertension? "
   ]
  },
  {
   "cell_type": "code",
   "execution_count": 22,
   "metadata": {},
   "outputs": [
    {
     "name": "stdout",
     "output_type": "stream",
     "text": [
      "Min: 1135.0 grams, Avg: 2536.83 grams, Max: 3790.0 grams\n"
     ]
    }
   ],
   "source": [
    "hypertensive_mothers_data = data[hypertension == 1]\n",
    "\n",
    "hypertensive_mothers_weights = hypertensive_mothers_data[:, 9]\n",
    "\n",
    "min_weight_ht = round(np.min(hypertensive_mothers_weights), 2)\n",
    "avg_weight_ht = round(np.mean(hypertensive_mothers_weights), 2)\n",
    "max_weight_ht = round(np.max(hypertensive_mothers_weights), 2)\n",
    "\n",
    "print(f\"Min: {min_weight_ht} grams, Avg: {avg_weight_ht} grams, Max: {max_weight_ht} grams\")\n"
   ]
  },
  {
   "cell_type": "markdown",
   "metadata": {},
   "source": [
    "11. (5 pts) What is the minimum, average and maximum birth weight of babies whose mothers smoked during pregnancy and had a history of \n",
    "hypertension? "
   ]
  },
  {
   "cell_type": "code",
   "execution_count": 24,
   "metadata": {},
   "outputs": [
    {
     "name": "stdout",
     "output_type": "stream",
     "text": [
      "Min: 1135.0 grams, Avg: 2561.0 grams, Max: 3756.0 grams\n"
     ]
    }
   ],
   "source": [
    "smoking_and_hypertensive = data[(smoke == 1) & (hypertension == 1)]\n",
    "\n",
    "smoking_and_hypertensive_weights = smoking_and_hypertensive[:, 9]\n",
    "\n",
    "min_weight_sh = round(np.min(smoking_and_hypertensive_weights), 2)\n",
    "avg_weight_sh = round(np.mean(smoking_and_hypertensive_weights), 2)\n",
    "max_weight_sh = round(np.max(smoking_and_hypertensive_weights), 2)\n",
    "\n",
    "print(f\"Min: {min_weight_sh} grams, Avg: {avg_weight_sh} grams, Max: {max_weight_sh} grams\")\n"
   ]
  },
  {
   "cell_type": "markdown",
   "metadata": {},
   "source": [
    "12. (5 pts) Compare and contrast the results from 7-11 above and summarize your findings.\n",
    "Do you see any patterns in the birth weight of babies whose mother did not have any history of hypertension and/or did not smoke \n",
    "during pregnancy versus those who did? Ensure that you reference specific birth weights to support your explanation.\n"
   ]
  },
  {
   "cell_type": "markdown",
   "metadata": {},
   "source": [
    "I have found that babies of non-smoking mothers without high blood pressure have the highest birth weights: these mothers' babies have the healthiest birth weights, with average birth weights usually higher than 3,000 grams, and maximum weights even reaching 5,000 grams.\n",
    "\n",
    "On the contrary, the babies of mothers who smoked and suffered from high blood pressure had a lower birth weight: the average birth weight of the babies in the smoking group was lower, at 2771.92 grams, and the smallest weight of the babies in this group was only 709 grams, which shows the great influence of smoking on the development of the fetus. Similarly, the effect of high blood pressure on the development of the fetus was also very significant with the average weight of the babies in this group being 2536.83 grams.\n",
    "Mothers who were both smokers and hypertensive had the lowest birth weight of their babies:\n",
    "Although the mean birth weight of this group (2561.0 grams) was slightly higher than that of mothers with hypertension only, it was still much lower than that of mothers who were non-smokers and did not have hypertension.\n",
    "\n",
    "Summary:\n",
    "Both smoking and hypertension have a significant negative impact on infant birth weight, and the negative impact is more severe when the two risk factors are combined.\n",
    "A history of preterm birth also affects infant birth weight, but the effect of preterm birth alone may not be as large as the superimposed effect of smoking and hypertension.\n",
    "\n",
    "These results suggest that maternal health status, particularly smoking and hypertension, is directly related to infant birth weight, and that maintaining good health significantly improves infant birth weight.\n"
   ]
  },
  {
   "cell_type": "markdown",
   "metadata": {},
   "source": [
    "## Helpful resources \n",
    "Don't forget to cite websites which helped you solve a problem in a unique way.  You can do this in markdown near the code or with a simple one-line comment inside the code cell, or you can list them below. \n",
    "\n",
    "You do not need to cite the official python documentation.\n"
   ]
  },
  {
   "cell_type": "code",
   "execution_count": null,
   "metadata": {},
   "outputs": [],
   "source": []
  }
 ],
 "metadata": {
  "kernelspec": {
   "display_name": "Python 3 (ipykernel)",
   "language": "python",
   "name": "python3"
  },
  "language_info": {
   "codemirror_mode": {
    "name": "ipython",
    "version": 3
   },
   "file_extension": ".py",
   "mimetype": "text/x-python",
   "name": "python",
   "nbconvert_exporter": "python",
   "pygments_lexer": "ipython3",
   "version": "3.12.4"
  }
 },
 "nbformat": 4,
 "nbformat_minor": 4
}
